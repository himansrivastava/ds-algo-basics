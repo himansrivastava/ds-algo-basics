{
 "cells": [
  {
   "cell_type": "markdown",
   "metadata": {},
   "source": [
    "Q. Given an array of integers, calculate the ratios of its elements that are positive, negative, and zero. Print the decimal value of each fraction on a new line with 6 places after the decimal."
   ]
  },
  {
   "cell_type": "code",
   "execution_count": 3,
   "metadata": {},
   "outputs": [
    {
     "name": "stdout",
     "output_type": "stream",
     "text": [
      "0.666667\n",
      "0.166667\n",
      "0.166667\n"
     ]
    }
   ],
   "source": [
    "# Solution 1 (Filter)\n",
    "\n",
    "# Complete the 'plusMinus' function below.\n",
    "#\n",
    "# The function accepts INTEGER_ARRAY arr as parameter.\n",
    "#\n",
    "\n",
    "def plusMinus(arr):\n",
    "    tot_elements = len(arr)\n",
    "    positive_elements = len(list(filter(lambda x:x>0, arr)))\n",
    "    negative_elements = len(list(filter(lambda x:x<0, arr)))\n",
    "    zero_elements = len(list(filter(lambda x:x==0, arr)))\n",
    "    print(round(positive_elements/tot_elements, 6))\n",
    "    print(round(negative_elements/tot_elements, 6))\n",
    "    print(round(zero_elements/tot_elements, 6))\n",
    "\n",
    "if __name__ == '__main__':\n",
    "    n = int(input().strip())\n",
    "\n",
    "    arr = list(map(int, input().rstrip().split()))\n",
    "\n",
    "    plusMinus(arr)"
   ]
  },
  {
   "cell_type": "code",
   "execution_count": 4,
   "metadata": {},
   "outputs": [
    {
     "name": "stdout",
     "output_type": "stream",
     "text": [
      "0.5\n",
      "0.333333\n",
      "0.166667\n"
     ]
    }
   ],
   "source": [
    "# Solution 2 (List Comprehension)\n",
    "\n",
    "def plusMinus(arr):\n",
    "    tot_elements = len(arr)\n",
    "    positive_elements = len([x for x in arr if x>0])\n",
    "    negative_elements = len([x for x in arr if x<0])\n",
    "    zero_elements = len([x for x in arr if x==0])\n",
    "    print(round(positive_elements/tot_elements, 6))\n",
    "    print(round(negative_elements/tot_elements, 6))\n",
    "    print(round(zero_elements/tot_elements, 6))\n",
    "\n",
    "if __name__ == '__main__':\n",
    "    n = int(input().strip())\n",
    "\n",
    "    arr = list(map(int, input().rstrip().split()))\n",
    "\n",
    "    plusMinus(arr)"
   ]
  },
  {
   "cell_type": "markdown",
   "metadata": {},
   "source": [
    "Q. Given five positive integers, find the minimum and maximum values that can be calculated by summing exactly four of the five integers. Then print the respective minimum and maximum values as a single line of two space-separated long integers."
   ]
  },
  {
   "cell_type": "code",
   "execution_count": 5,
   "metadata": {},
   "outputs": [
    {
     "name": "stdout",
     "output_type": "stream",
     "text": [
      "17 24\n"
     ]
    }
   ],
   "source": [
    "def miniMaxSum(arr):\n",
    "    max_element = max(arr)\n",
    "    min_element = min(arr)\n",
    "    sum_of_elements = sum(arr)\n",
    "    print(sum_of_elements - max_element, sum_of_elements - min_element)\n",
    "\n",
    "if __name__ == '__main__':\n",
    "\n",
    "    arr = list(map(int, input().rstrip().split()))\n",
    "\n",
    "    miniMaxSum(arr)"
   ]
  },
  {
   "cell_type": "markdown",
   "metadata": {},
   "source": [
    "Q. Given a time in -hour AM/PM format, convert it to military (24-hour) time."
   ]
  },
  {
   "cell_type": "code",
   "execution_count": 17,
   "metadata": {},
   "outputs": [
    {
     "name": "stdout",
     "output_type": "stream",
     "text": [
      "19:00:12\n"
     ]
    }
   ],
   "source": [
    "def timeConversion(s):\n",
    "    am_pm = s[-2:]\n",
    "    time = int(s[:2])\n",
    "    \n",
    "    if am_pm == \"PM\" and time!=12:\n",
    "        # 12:45:12PM should convert to 12:45:12 and hence \n",
    "        # 12 should not be added in this case\n",
    "        time = time + 12\n",
    "    elif am_pm == \"AM\" and time==12:\n",
    "        # for 12:00:00AM it should convert to 00:00:00\n",
    "        time = 0\n",
    "    \n",
    "    # add trailing 0s to the time if the time is of single digit\n",
    "    time = f\"{time:02d}\"\n",
    "    time = str(time) + s[2:8]\n",
    "    return time\n",
    "\n",
    "if __name__ == '__main__':\n",
    "    # fptr = open(os.environ['OUTPUT_PATH'], 'w')\n",
    "\n",
    "    s = \"07:00:12PM\"\n",
    "\n",
    "    result = timeConversion(s)\n",
    "\n",
    "    print(result)"
   ]
  },
  {
   "cell_type": "code",
   "execution_count": null,
   "metadata": {},
   "outputs": [],
   "source": [
    "# Optimized solution\n",
    "def timeConversion(s):\n",
    "    am_pm = s[-2:]\n",
    "    time = int(s[:2])\n",
    "    time = time % 12\n",
    "    \n",
    "    if am_pm == \"PM\":\n",
    "        time = time + 12\n",
    "    \n",
    "    # add trailing 0s to the time if the time is of single digit\n",
    "    time = f\"{time:02d}\"\n",
    "    time = str(time) + s[2:8]\n",
    "    return time\n",
    "\n",
    "if __name__ == '__main__':\n",
    "    # fptr = open(os.environ['OUTPUT_PATH'], 'w')\n",
    "\n",
    "    s = \"12:00:12PM\"\n",
    "\n",
    "    result = timeConversion(s)\n",
    "\n",
    "    print(result)"
   ]
  },
  {
   "cell_type": "markdown",
   "metadata": {},
   "source": [
    "Q. Find the median of an array of integers. The medium is the center element after sorting the array."
   ]
  },
  {
   "cell_type": "code",
   "execution_count": 28,
   "metadata": {},
   "outputs": [
    {
     "name": "stdout",
     "output_type": "stream",
     "text": [
      "[0, 1, 2, 3, 4, 5, 6, 8]\n"
     ]
    },
    {
     "data": {
      "text/plain": [
       "3.5"
      ]
     },
     "execution_count": 28,
     "metadata": {},
     "output_type": "execute_result"
    }
   ],
   "source": [
    "def find_medium(arr):\n",
    "    sorted_arr = sorted(arr)\n",
    "    print(sorted_arr)\n",
    "    length_of_arr = len(sorted_arr)\n",
    "    if length_of_arr % 2 !=0:\n",
    "        medium = sorted_arr[length_of_arr//2]\n",
    "    else:\n",
    "        \n",
    "        medium = (sorted_arr[int(length_of_arr/2)-1] + sorted_arr[int(length_of_arr/2)])/2\n",
    "    return medium\n",
    "    \n",
    "find_medium([0,1,2,4,3,5,6,8])"
   ]
  },
  {
   "cell_type": "markdown",
   "metadata": {},
   "source": [
    "Q. Lonely Integer: Given an array of integers, where all elements but one occur twice, find the unique element."
   ]
  },
  {
   "cell_type": "code",
   "execution_count": 50,
   "metadata": {},
   "outputs": [
    {
     "name": "stdout",
     "output_type": "stream",
     "text": [
      "sorted_arr:  [1, 1, 2, 2, 3, 3, 4]\n",
      "7\n"
     ]
    },
    {
     "data": {
      "text/plain": [
       "4"
      ]
     },
     "execution_count": 50,
     "metadata": {},
     "output_type": "execute_result"
    }
   ],
   "source": [
    "def lonelyinteger(a):\n",
    "    sorted_arr = sorted(a)\n",
    "    print(\"sorted_arr: \",sorted_arr)\n",
    "    print(len(sorted_arr))\n",
    "    lonelyinteger = 0\n",
    "    if len(sorted_arr) == 1:\n",
    "        return sorted_arr[0]\n",
    "    for i in range(0, len(sorted_arr)-1):\n",
    "        if (i == 0 and (sorted_arr[i+1] != sorted_arr[i])):\n",
    "            lonelyinteger = sorted_arr[i]\n",
    "            break\n",
    "        elif (i == len(sorted_arr)-2) and (sorted_arr[i] != sorted_arr[i+1]):\n",
    "            lonelyinteger = sorted_arr[i+1]\n",
    "            break         \n",
    "        elif (sorted_arr[i-1] != sorted_arr[i]) and (sorted_arr[i+1] != sorted_arr[i]):\n",
    "            lonelyinteger = sorted_arr[i]\n",
    "            break\n",
    "    return lonelyinteger\n",
    "\n",
    "lonelyinteger([1,2,3,4,3,2,1])"
   ]
  },
  {
   "cell_type": "code",
   "execution_count": 53,
   "metadata": {},
   "outputs": [
    {
     "data": {
      "text/plain": [
       "1"
      ]
     },
     "execution_count": 53,
     "metadata": {},
     "output_type": "execute_result"
    }
   ],
   "source": [
    "# Set based approach\n",
    "def lonelyinteger(a):\n",
    "    set_1 = set(a)\n",
    "    for item in set_1:\n",
    "        no_of_occurence_in_list = len([x for x in a if x==item])\n",
    "        if no_of_occurence_in_list == 1:\n",
    "            return item\n",
    "\n",
    "lonelyinteger([2,2,3,4,3,2,1])"
   ]
  },
  {
   "cell_type": "markdown",
   "metadata": {},
   "source": [
    "Q. Given a square matrix, calculate the absolute difference between the sums of its diagonals."
   ]
  },
  {
   "cell_type": "code",
   "execution_count": 55,
   "metadata": {},
   "outputs": [
    {
     "data": {
      "text/plain": [
       "15"
      ]
     },
     "execution_count": 55,
     "metadata": {},
     "output_type": "execute_result"
    }
   ],
   "source": [
    "def diagonalDifference(arr):\n",
    "    primary_diagonal_sum = 0\n",
    "    secondary_diagonal_sum = 0\n",
    "    arr_len = len(arr)\n",
    "    for i in range(arr_len):\n",
    "        primary_diagonal_sum += arr[i][i]\n",
    "        secondary_diagonal_sum += arr[i][arr_len-(i+1)]\n",
    "    return (abs(primary_diagonal_sum-secondary_diagonal_sum))\n",
    "\n",
    "diagonalDifference([[11, 2, 4], [4, 5, 6], [10, 8, -12]])"
   ]
  },
  {
   "cell_type": "markdown",
   "metadata": {},
   "source": [
    "Q. Given a list of integers, count and return the number of times each value appears as an array of integers."
   ]
  },
  {
   "cell_type": "code",
   "execution_count": 18,
   "metadata": {},
   "outputs": [],
   "source": [
    "def countingSort(arr):\n",
    "    freq_arr = [0] * 100\n",
    "    for item in arr:\n",
    "        freq_arr[item]+=1\n",
    "    return freq_arr\n",
    "\n",
    "input_list = [\n",
    "    63, 25, 73, 1, 98, 73, 56, 84, 86, 57, 16, 83, 8, 25, 81, 56, 9, 53, 98, 67, 99, 12, 83, 89, 80, 91, 39, 86, 76, 85, 74, 39, 25, 90, 59, 10, 94, 32, 44, 3, 89, 30, 27, 79, 46, 96, 27, 32, 18, 21, 92, 69, 81, 40, 40, 34, 68, 78, 24, 87, 42, 69, 23, 41, 78, 22, 6, 90, 99, 89, 50, 30, 20, 1, 43, 3, 70, 95, 33, 46, 44, 9, 69, 48, 33, 60, 65, 16, 82, 67, 61, 32, 21, 79, 75, 75, 13, 87, 70, 33\n",
    "]\n",
    "# countingSort(input_list)"
   ]
  },
  {
   "cell_type": "markdown",
   "metadata": {},
   "source": [
    "Q. Binary Search: Given a sorted array of n integers, find the index of a given key. If the key is not found, return -1."
   ]
  },
  {
   "cell_type": "code",
   "execution_count": 30,
   "metadata": {},
   "outputs": [
    {
     "data": {
      "text/plain": [
       "0"
      ]
     },
     "execution_count": 30,
     "metadata": {},
     "output_type": "execute_result"
    }
   ],
   "source": [
    "from typing import List\n",
    "def search(nums: List[int], target: int) -> int:\n",
    "    start_index = 0\n",
    "    end_index = len(nums) - 1\n",
    "    while (start_index <= end_index):\n",
    "        middle_index = start_index + (end_index - start_index) // 2\n",
    "        if target == nums[middle_index]:\n",
    "            return middle_index\n",
    "        if target < nums[middle_index]:\n",
    "            end_index = middle_index - 1\n",
    "        else:\n",
    "            start_index = middle_index + 1\n",
    "    return -1\n",
    "search([5], 5)"
   ]
  },
  {
   "cell_type": "code",
   "execution_count": null,
   "metadata": {},
   "outputs": [],
   "source": [
    "\n"
   ]
  }
 ],
 "metadata": {
  "kernelspec": {
   "display_name": "Python 3.9.10 ('venv': venv)",
   "language": "python",
   "name": "python3"
  },
  "language_info": {
   "codemirror_mode": {
    "name": "ipython",
    "version": 3
   },
   "file_extension": ".py",
   "mimetype": "text/x-python",
   "name": "python",
   "nbconvert_exporter": "python",
   "pygments_lexer": "ipython3",
   "version": "3.9.10"
  },
  "orig_nbformat": 4,
  "vscode": {
   "interpreter": {
    "hash": "5e87f5fbd20edd3e63b3e2a95a962181d792d89ae5e0181bd589c69eb12207c8"
   }
  }
 },
 "nbformat": 4,
 "nbformat_minor": 2
}
